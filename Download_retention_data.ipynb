{
 "cells": [
  {
   "cell_type": "code",
   "execution_count": null,
   "id": "34cc3e47-e3f1-4bbd-81b9-0e0862f7603a",
   "metadata": {},
   "outputs": [],
   "source": [
    "from IPython.display import display, Markdown, Latex, HTML\n",
    "\n",
    "import os\n",
    "import pandas as pd\n",
    "import csv\n",
    "import subprocess"
   ]
  },
  {
   "attachments": {},
   "cell_type": "markdown",
   "id": "bad2894e-3ff8-4b82-841b-bb74b7b6bf46",
   "metadata": {},
   "source": [
    "This data is available both via public download and from Toolforge. For the latter:\n",
    "* Create account on Toolforge https://wikitech.wikimedia.org/wiki/Help:Toolforge/Quickstart \n",
    "* data is in this folder: /data/project/retention/data from danilo. Should be public. \n",
    "\n",
    "As for format (both files and description courtesy of user:Danilo.mac ):\n",
    "* each line is in format \"u1111 22344 ...\" where 1111 is user id, 22 is year (2022), 3 is month in hexadecimal and 44 is the number of edits in that month\n",
    "\n",
    "The whole sequence probably takes about an hour to run."
   ]
  },
  {
   "cell_type": "code",
   "execution_count": null,
   "id": "6da92a22-fa15-45bd-b3d1-b542added07e",
   "metadata": {},
   "outputs": [],
   "source": [
    "raw_folder = 'pre-aggregated_editcounts/tools-static.wmflabs.org/retention/data/'\n",
    "raw_extension = '.dat'\n",
    "semi_folder = 'pre-aggregated_editcounts/semi/'\n",
    "semi_folder2 = 'pre-aggregated_editcounts/semi2/'\n"
   ]
  },
  {
   "attachments": {},
   "cell_type": "markdown",
   "id": "611e23d2-af5d-408b-9b44-7fcc7a43075d",
   "metadata": {
    "jp-MarkdownHeadingCollapsed": true,
    "tags": []
   },
   "source": [
    "## Download raw files\n",
    "This will be very verbose."
   ]
  },
  {
   "cell_type": "code",
   "execution_count": null,
   "id": "68ef1575-bd6d-429d-975d-3233c7e5082c",
   "metadata": {},
   "outputs": [],
   "source": [
    "result = subprocess.run(['wget', '-N', '-r', '-P', 'pre-aggregated_editcounts', 'https://tools-static.wmflabs.org/retention/data'])\n"
   ]
  },
  {
   "cell_type": "code",
   "execution_count": null,
   "id": "9551e0bb-51b3-4ceb-b35f-bbf793f1ca24",
   "metadata": {},
   "outputs": [],
   "source": [
    "result"
   ]
  },
  {
   "attachments": {},
   "cell_type": "markdown",
   "id": "8ea2082f-72de-4e26-9107-9ce3e9230585",
   "metadata": {},
   "source": [
    "## Convert raw files to semi-processed\n",
    "* Get all filenames in pre-aggregated_editcounts/tools-static.wmflabs.org/retention/data \n",
    "* For each file, stream line by line and create rows from it in a dataframe\n",
    "* Then store the dataframe as csv"
   ]
  },
  {
   "cell_type": "code",
   "execution_count": null,
   "id": "6ba44a9f-d0a5-4eb9-9bad-8f79e146f57f",
   "metadata": {},
   "outputs": [],
   "source": [
    "filenames = [f for f in os.listdir(raw_folder) if f.endswith(raw_extension)] "
   ]
  },
  {
   "cell_type": "code",
   "execution_count": null,
   "id": "82835bf4-a2c0-4fb3-ab58-93d1275ed9c4",
   "metadata": {},
   "outputs": [],
   "source": [
    "# For each file, read line by line and then create multiple lines based on that line, with the format\n",
    "# user_id, year_month_hash, count\n",
    "def semi_process(path_in, path_out, wiki):\n",
    "    with open(path_in, 'r') as f, open(path_out, 'w') as w:\n",
    "        reader = csv.reader(f)\n",
    "        w.write('user_id, wiki, yearmonth, count')\n",
    "        for row in reader:\n",
    "            tmp = row[0].split()\n",
    "            w.write('\\n')\n",
    "            w.write('\\n'.join([tmp[0][1:] + ',' + wiki + ',' + val[:3] + ',' + val[3:] for val in tmp[1:]]))"
   ]
  },
  {
   "cell_type": "code",
   "execution_count": null,
   "id": "d6d9a418-a491-440b-a47f-6c7ef37b9d52",
   "metadata": {},
   "outputs": [],
   "source": [
    "# Takes a few minutes to run\n",
    "for filename in filenames:\n",
    "    semi_process(\n",
    "        path_in = raw_folder + filename,\n",
    "        path_out = semi_folder + filename.split('.')[0] + '.csv',\n",
    "        wiki = filename.split('.')[0]\n",
    "    )"
   ]
  },
  {
   "attachments": {},
   "cell_type": "markdown",
   "id": "385d7022-a362-4b13-b870-13731405c1f8",
   "metadata": {},
   "source": [
    "Some of these files are too big to just ingest as a dataframe. Lets convert it first to a df-like situation, and then we filter for only the users that have any edits."
   ]
  },
  {
   "cell_type": "code",
   "execution_count": null,
   "id": "65b6902d-d357-48a9-84ae-b6dae9652e25",
   "metadata": {},
   "outputs": [],
   "source": [
    "def semi_process2(path_in, path_out, df_users, returnme = False):\n",
    "    list_months = []\n",
    "    with open(path_in, 'r') as f:\n",
    "        reader = csv.reader(f)\n",
    "        next(reader)\n",
    "        for row in reader:\n",
    "            if row[2] in list_months:\n",
    "                pass\n",
    "            else:\n",
    "                list_months += [row[2]]\n",
    "    df_users2 = df_users.merge(pd.DataFrame(columns=list_months), how='left', left_index = True, right_index = True)\n",
    "    with open(path_in, 'r') as f:\n",
    "        reader = csv.reader(f)\n",
    "        next(reader)\n",
    "        for row in reader:\n",
    "            u_id = int(row[0])\n",
    "            if u_id in df_users2.index:\n",
    "                df_users2.loc[u_id,row[2]] = row[3]\n",
    "            else:\n",
    "                pass\n",
    "    df_users2 = df_users2.set_index('username').dropna(axis=0, how='all')\n",
    "    df_users2.to_csv(path_out)\n",
    "    if returnme:\n",
    "        return(df_users2.set_index('username'))"
   ]
  },
  {
   "cell_type": "code",
   "execution_count": null,
   "id": "453c0153-f83b-4659-b14f-8dd29146de57",
   "metadata": {},
   "outputs": [],
   "source": [
    "# should take less than an hour to run?\n",
    "df_list_ids = pd.read_csv('output/df_user_actor_id.csv')\n",
    "for filename in filenames:\n",
    "    wiki = filename.split('.')[0]\n",
    "    semi_process2(\n",
    "        path_in = semi_folder + filename.split('.')[0] + '.csv',\n",
    "        path_out = semi_folder2 + filename.split('.')[0] + '.csv',\n",
    "        df_users = df_list_ids.query('wiki == @wiki')[['username', 'user_id']].set_index('user_id')\n",
    "    )"
   ]
  },
  {
   "cell_type": "code",
   "execution_count": null,
   "id": "fe86dbf0-c247-4be7-a437-f61a5fdf6bd5",
   "metadata": {},
   "outputs": [],
   "source": [
    "def process_usercounts(folder_in, path_out, filenames, returnme = False):\n",
    "    '''\n",
    "    Takes pre-processed editcounts per user per month. Each file represents one wiki, with a username per row and a month per column. \n",
    "    Month columns are coded as three digits, where the first two digits represent the year and the third represents the month: 1,2,3,4,5,6,7,8,9,a,b,c .\n",
    "    \n",
    "    Input:\n",
    "    path_in: string with the path to the folder with the semi-processed files\n",
    "    path_out: string with the path to the folder where the ouput file should be returned to\n",
    "    filenames: list of strings with each string being filenames. The file extension is ignored so that the same list of filenames can be used by multiple functions.\n",
    "    returnme: optional parameter to return a pandas dataframe rather than write to file.\n",
    "    '''\n",
    "    df_out = pd.DataFrame()\n",
    "    for filename in filenames:\n",
    "        tmp_filename = filename.split('.')[0]\n",
    "        df_temp = pd.read_csv(folder_in + tmp_filename + '.csv')\n",
    "        df_out = pd.concat([df_out, df_temp], axis = 0).groupby('username').sum().reset_index()\n",
    "    df_out.set_index('username', inplace=True)\n",
    "    df_out = df_out.reindex(sorted(df_out.columns), axis=1)\n",
    "    if returnme:\n",
    "        return(df_out)\n",
    "    else: \n",
    "        df_out.to_csv(path_out)"
   ]
  },
  {
   "cell_type": "code",
   "execution_count": null,
   "id": "4cd8e16c-70db-4ac9-8426-2a910a48c483",
   "metadata": {},
   "outputs": [],
   "source": [
    "# this takes about 4 minutes to run\n",
    "process_usercounts(\n",
    "    folder_in = 'pre-aggregated_editcounts/semi2/',\n",
    "    path_out = 'output/df_user_editcounts.csv',\n",
    "    filenames = filenames,\n",
    "    returnme = False\n",
    ")"
   ]
  },
  {
   "cell_type": "code",
   "execution_count": null,
   "id": "edb54db1-8e96-482e-be1d-425febed27ba",
   "metadata": {},
   "outputs": [],
   "source": [
    "df_editcounts = pd.read_csv('output/df_user_editcounts.csv').set_index('username')\n",
    "df_editcounts"
   ]
  }
 ],
 "metadata": {
  "kernelspec": {
   "display_name": "Python 3 (ipykernel)",
   "language": "python",
   "name": "python3"
  },
  "language_info": {
   "codemirror_mode": {
    "name": "ipython",
    "version": 3
   },
   "file_extension": ".py",
   "mimetype": "text/x-python",
   "name": "python",
   "nbconvert_exporter": "python",
   "pygments_lexer": "ipython3",
   "version": "3.10.6"
  }
 },
 "nbformat": 4,
 "nbformat_minor": 5
}
